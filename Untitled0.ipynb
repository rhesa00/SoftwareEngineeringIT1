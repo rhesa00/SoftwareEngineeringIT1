{
  "nbformat": 4,
  "nbformat_minor": 0,
  "metadata": {
    "colab": {
      "name": "Untitled0.ipynb",
      "provenance": []
    },
    "kernelspec": {
      "name": "python3",
      "display_name": "Python 3"
    },
    "language_info": {
      "name": "python"
    }
  },
  "cells": [
    {
      "cell_type": "code",
      "metadata": {
        "id": "1Z8Gc9CkO8OC"
      },
      "source": [
        "# Variabel\n",
        "\n",
        "a = 2 # Integer / Bilangan Bulat\n",
        "hewan = \"Gajah\" # String\n",
        "# Untuk yang dasar nya tidak ada yang namanya Char\n",
        "b = 'A' # String\n",
        "c = True # Boolean\n",
        "d = False # Boolean\n",
        "e = 2.0 # Float\n",
        "f = [] # List / Array\n",
        "g = {} # Dictionary\n",
        "h = () # Tuple"
      ],
      "execution_count": null,
      "outputs": []
    },
    {
      "cell_type": "code",
      "metadata": {
        "colab": {
          "base_uri": "https://localhost:8080/"
        },
        "id": "LqKFscZ0SViK",
        "outputId": "7ab913ce-95ec-47e2-ec14-19e89e1506df"
      },
      "source": [
        "# Print\n",
        "print (hewan)\n",
        "print (\"singa\")\n",
        "print (2)\n",
        "print (2+3)\n",
        "print (True)"
      ],
      "execution_count": null,
      "outputs": [
        {
          "output_type": "stream",
          "name": "stdout",
          "text": [
            "Gajah\n",
            "singa\n",
            "2\n",
            "5\n",
            "True\n"
          ]
        }
      ]
    },
    {
      "cell_type": "code",
      "metadata": {
        "id": "IRJyzZzLWkBS",
        "colab": {
          "base_uri": "https://localhost:8080/"
        },
        "outputId": "a130a646-225f-40d8-fb4a-244231434b7a"
      },
      "source": [
        "Nama_Siswa = [\"Rizal\", \"Rhesa\", \"Aufa\", \"Juven\"]\n",
        "nama = [\"Juven\"] * 4\n",
        "# for i in range(1, 3):\n",
        "  # print(Nama_Siswa[i])\n",
        "# Nama_Siswa[0:2] #Nama_Siswa[-2]\n",
        "# nama[0:5]\n",
        "nama.append(2)\n",
        "# nama[-3:]\n",
        "Nama_Siswa[0:3]"
      ],
      "execution_count": 1,
      "outputs": [
        {
          "output_type": "execute_result",
          "data": {
            "text/plain": [
              "['Rizal', 'Rhesa', 'Aufa']"
            ]
          },
          "metadata": {},
          "execution_count": 1
        }
      ]
    }
  ]
}